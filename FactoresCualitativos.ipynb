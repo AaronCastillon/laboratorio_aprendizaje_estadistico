{
 "cells": [
  {
   "cell_type": "code",
   "execution_count": 1,
   "id": "df8fb3d6-4515-4881-9154-82cacefc5b03",
   "metadata": {},
   "outputs": [],
   "source": [
    "import numpy as np\n",
    "from sklearn.linear_model import LinearRegression\n",
    "import matplotlib.pyplot as plt\n",
    "from sklearn.metrics import r2_score\n",
    "import pandas as pd"
   ]
  },
  {
   "cell_type": "code",
   "execution_count": 3,
   "id": "007c8b79-c638-4383-8bf6-e9db9117b6c8",
   "metadata": {},
   "outputs": [],
   "source": [
    "n= np.matrix([[1,0,0,0,0,1],[1,0,0,0,0,0],[1,0,0,0,1,1],[1,0,0,0,1,0],\n",
    "             [0,1,0,0,0,1],[0,1,0,0,0,0],[0,1,0,0,1,1],[0,1,0,0,1,0],\n",
    "             [0,0,1,0,0,1],[0,0,1,0,0,0],[0,0,1,0,1,1],[0,0,1,0,1,0],\n",
    "             [0,0,0,1,0,1],[0,0,0,1,0,0],[0,0,0,1,1,1],[0,0,0,1,1,0]])"
   ]
  },
  {
   "cell_type": "code",
   "execution_count": 4,
   "id": "bfd93102-5faa-4484-8f70-5f113a8d284f",
   "metadata": {},
   "outputs": [
    {
     "data": {
      "text/plain": [
       "matrix([[1, 0, 0, 0, 0, 1],\n",
       "        [1, 0, 0, 0, 0, 0],\n",
       "        [1, 0, 0, 0, 1, 1],\n",
       "        [1, 0, 0, 0, 1, 0],\n",
       "        [0, 1, 0, 0, 0, 1],\n",
       "        [0, 1, 0, 0, 0, 0],\n",
       "        [0, 1, 0, 0, 1, 1],\n",
       "        [0, 1, 0, 0, 1, 0],\n",
       "        [0, 0, 1, 0, 0, 1],\n",
       "        [0, 0, 1, 0, 0, 0],\n",
       "        [0, 0, 1, 0, 1, 1],\n",
       "        [0, 0, 1, 0, 1, 0],\n",
       "        [0, 0, 0, 1, 0, 1],\n",
       "        [0, 0, 0, 1, 0, 0],\n",
       "        [0, 0, 0, 1, 1, 1],\n",
       "        [0, 0, 0, 1, 1, 0]])"
      ]
     },
     "execution_count": 4,
     "metadata": {},
     "output_type": "execute_result"
    }
   ],
   "source": [
    "n"
   ]
  },
  {
   "cell_type": "code",
   "execution_count": 5,
   "id": "87d6a148-2bab-4e69-b0fb-e66461d72f24",
   "metadata": {},
   "outputs": [],
   "source": [
    "yn=np.matrix([[9],[7],[10],[8],[8],[6],[10],[7],[8],[6],[9.5],[7],[9],[7],[10],[8]])"
   ]
  },
  {
   "cell_type": "code",
   "execution_count": 6,
   "id": "778ec336-4842-447a-b087-164b142909cb",
   "metadata": {},
   "outputs": [
    {
     "data": {
      "text/plain": [
       "matrix([[ 9. ],\n",
       "        [ 7. ],\n",
       "        [10. ],\n",
       "        [ 8. ],\n",
       "        [ 8. ],\n",
       "        [ 6. ],\n",
       "        [10. ],\n",
       "        [ 7. ],\n",
       "        [ 8. ],\n",
       "        [ 6. ],\n",
       "        [ 9.5],\n",
       "        [ 7. ],\n",
       "        [ 9. ],\n",
       "        [ 7. ],\n",
       "        [10. ],\n",
       "        [ 8. ]])"
      ]
     },
     "execution_count": 6,
     "metadata": {},
     "output_type": "execute_result"
    }
   ],
   "source": [
    "yn"
   ]
  },
  {
   "cell_type": "code",
   "execution_count": null,
   "id": "9a06c9ba-5a6e-45af-96fc-ecfa976eb16b",
   "metadata": {},
   "outputs": [],
   "source": [
    "lr=LinearRegression()\n",
    "rl=lr.fit(np.array(n)\n"
   ]
  }
 ],
 "metadata": {
  "kernelspec": {
   "display_name": "Python [conda env:base] *",
   "language": "python",
   "name": "conda-base-py"
  },
  "language_info": {
   "codemirror_mode": {
    "name": "ipython",
    "version": 3
   },
   "file_extension": ".py",
   "mimetype": "text/x-python",
   "name": "python",
   "nbconvert_exporter": "python",
   "pygments_lexer": "ipython3",
   "version": "3.13.5"
  }
 },
 "nbformat": 4,
 "nbformat_minor": 5
}
