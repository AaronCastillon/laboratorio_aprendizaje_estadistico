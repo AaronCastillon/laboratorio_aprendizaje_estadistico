{
 "cells": [
  {
   "cell_type": "markdown",
   "id": "70086771-ad90-497d-9b51-22626c9cce63",
   "metadata": {},
   "source": [
    "# Laboratorio de regresión - 5"
   ]
  },
  {
   "cell_type": "markdown",
   "id": "9f666e0e-9e63-49f4-96e1-053c5b1738c3",
   "metadata": {},
   "source": [
    "|                |   |\r\n",
    ":----------------|---|\r\n",
    "| **Nombre**     |Miguel Aaron Castillon Ochoa   |\r\n",
    "| **Fecha**      18-09-2025   |\r\n",
    "| **Expediente**751858 |   |"
   ]
  },
  {
   "cell_type": "markdown",
   "id": "19f352dc-5863-4685-af3c-25f8fcf60841",
   "metadata": {},
   "source": [
    "## Validación"
   ]
  },
  {
   "cell_type": "markdown",
   "id": "b73fccec-9651-4f74-9d56-a3c2b2097e19",
   "metadata": {},
   "source": [
    "Hemos estado usando `train_test_split` en nuestros modelos anteriores.\n",
    "\n",
    "¿Por qué?"
   ]
  },
  {
   "cell_type": "markdown",
   "id": "84fe97ab-a033-4d0f-ab73-0cdabe591655",
   "metadata": {},
   "source": []
  },
  {
   "cell_type": "markdown",
   "id": "20b452d0-e0b5-4d92-bd1a-288fa14a2ed9",
   "metadata": {},
   "source": []
  },
  {
   "cell_type": "markdown",
   "id": "0a60a028-ed60-4a5c-9308-dee4862e2bac",
   "metadata": {},
   "source": [
    "Si la muestra es un subset de la población y queremos generalizar sobre la población, ¿no sería mejor utilizar todos los datos al entrenar un modelo?"
   ]
  },
  {
   "cell_type": "markdown",
   "id": "50989a32-59e7-4bef-9b60-89f543d8ca81",
   "metadata": {},
   "source": []
  },
  {
   "cell_type": "markdown",
   "id": "ed8b1ad0-3c68-4f6a-b16b-c0b1353d7dd2",
   "metadata": {},
   "source": []
  },
  {
   "cell_type": "markdown",
   "id": "b98d96f3-7370-4161-aa67-75f10e5817cd",
   "metadata": {},
   "source": [
    "El propósito de volver a muestrear dentro de nuestro dataset es tener una idea de qué tan buena podría ser la generalización de nuestro modelo. Imagina un dataset ya separado en dos mitades. Utilizas la primera mitad para entrenar el modelo y pruebas en la segunda mitad; la segunda mitad eran datos invisibles para el modelo al momento de entrenar. Esto nos lleva a tres escenario típicos:\n",
    "\n",
    "1. Si el modelo hace buenas predicciones en la segunda mitad, significa que la primera mitad era \"suficiente\" para generalizar.\n",
    "2. Si el modelo no hace buenas predicciones en la segunda mitad, pero sí en la primera mitad, podría ser que había información importante en la segunda mitad que debió haber sido tomada en cuenta al entrenar, o un problema de overfitting.\n",
    "3. Si el modelo no hace buenas predicciones en la segunda mitad, y tampoco en la primera mitad, se tendrían que revisar los factores y/o el modelo seleccionado.\n",
    "\n",
    "El caso ideal sería el 1, pero por estadística los errores y varianzas tienen como entrada el número de muestas, por lo que tenemos menos seguridad de nuestros resutados al usar menos muestras. Si vemos que el modelo generaliza bien podemos unir de nuevo el dataset y entrenar sobre el dataset completo.\n",
    "\n",
    "En el caso 2 está el problema de que no podemos saber qué información es necesaria para el entrenamiento apropiado del modelo; esto nos lleva a pensar que debemos usar el dataset completo para entrenar, pero esto nos lleva al mismo problema de no saber si el modelo puede generalizar.\n",
    "\n",
    "El problema sólo incrementa si se tienen hiperparámetros en el modelo (e.g. $\\lambda$ en regularización)."
   ]
  },
  {
   "cell_type": "markdown",
   "id": "a16176ad-41fc-4f3c-b865-2eb4219152e2",
   "metadata": {},
   "source": [
    "## Leave-One-Out Cross Validation"
   ]
  },
  {
   "cell_type": "markdown",
   "id": "e1f7165d-5b5d-4e92-ae7f-7edb12eea745",
   "metadata": {},
   "source": [
    "Este método de validación es una colección de $n$ `train-test-split`. Teniendo un dataset de $n$ muestras, la lógica es:\n",
    "1. Saca una muestra del dataset.\n",
    "2. Entrena tu modelo con las $n-1$ muestras.\n",
    "3. Evalúa tu modelo en la muestra que quedó fuera con el métrico que más se ajuste a la aplicación.\n",
    "4. Regresa la muestra al dataset.\n",
    "5. Repite 1-4 con muestras diferentes hasta haber hecho el procedimiento $n$ veces para $n$ muestras.\n",
    "6. Calcula la media y desviación estándar de los métricos guardados."
   ]
  },
  {
   "cell_type": "markdown",
   "id": "21340b80-8fa4-4cdf-8fe4-85e4a35febcd",
   "metadata": {},
   "source": [
    "Con los resultados del proceso de validación podemos saber qué tan bueno podría ser el modelo seleccionado con los datos (con/sin transformaciones)."
   ]
  },
  {
   "cell_type": "markdown",
   "id": "0983bf1c-a6a2-42e4-a522-92bba6b450ab",
   "metadata": {},
   "source": [
    "### Ejercicio 1"
   ]
  },
  {
   "cell_type": "markdown",
   "id": "21e5f076-bc52-482c-9560-ecd0c125efa7",
   "metadata": {},
   "source": [
    "Utiliza el dataset `Motor Trend Car Road Tests`. Elimina la columna `model` y entrena 32 modelos diferentes utilizando Leave-One-Out Cross Validation con target `mpg`. Utiliza MSE como métrico."
   ]
  },
  {
   "cell_type": "code",
   "execution_count": null,
   "id": "89510da9-15a9-41e5-bd0e-855291acec2a",
   "metadata": {},
   "outputs": [],
   "source": []
  },
  {
   "cell_type": "code",
   "execution_count": null,
   "id": "b7199ca1-32f0-463b-925f-76613d608a72",
   "metadata": {},
   "outputs": [],
   "source": []
  },
  {
   "cell_type": "code",
   "execution_count": null,
   "id": "40ad85dc-3106-4430-9ed2-b6354e00d87f",
   "metadata": {},
   "outputs": [],
   "source": []
  },
  {
   "cell_type": "markdown",
   "id": "c8724bdb-e50b-4470-b53a-2d9843fae6ea",
   "metadata": {},
   "source": [
    "Interpreta."
   ]
  },
  {
   "cell_type": "markdown",
   "id": "b19904df-1fe6-433a-b1bd-a7ce86ce0eef",
   "metadata": {},
   "source": []
  },
  {
   "cell_type": "markdown",
   "id": "dc8ee166-b442-49f8-bf40-db9aaf9c3db8",
   "metadata": {},
   "source": []
  },
  {
   "cell_type": "markdown",
   "id": "dbc61dd1-fa5f-43b0-969a-592f8e9fc56f",
   "metadata": {},
   "source": [
    "## K-Folds Cross-Validation"
   ]
  },
  {
   "cell_type": "markdown",
   "id": "2dbca526-2c69-4c70-b6b4-270fc51d825b",
   "metadata": {},
   "source": [
    "El dataset `Motor Trend Car Road Tests` sólo tiene 32 muestras, y utilizar un modelo sencillo de regresión múltiple hace que usar LOOCV sea muy rápido. El dataset `California Housing` tiene $20640$ muestras para $9$ columnas, entonces realizar un ajuste sobre una transformación o sobre el modelo y luego calcular el impacto esperado podría tomar más tiempo."
   ]
  },
  {
   "cell_type": "markdown",
   "id": "8a437812-c00e-400f-ae7d-110b3afa5dc3",
   "metadata": {},
   "source": [
    "La solución propuesta es dividir el dataset en *k* folds (partes iguales), ajustar en *k-1* folds y probar en el restante."
   ]
  },
  {
   "cell_type": "markdown",
   "id": "5bb82cc3-0d35-442a-a12b-f9c6fd131af2",
   "metadata": {},
   "source": [
    "### Ejercicio 2\n",
    "Utiliza el dataset `California Housing` y haz K-folds Cross Validation con 10 folds. Utiliza el MSE como métrico."
   ]
  },
  {
   "cell_type": "code",
   "execution_count": 20,
   "id": "ba50e361-edcd-4cdb-9609-68f20d6fca97",
   "metadata": {},
   "outputs": [
    {
     "name": "stdout",
     "output_type": "stream",
     "text": [
      "Dataset Shape: (20640, 8) (20640,)\n",
      "Dataset Features: ['MedInc', 'HouseAge', 'AveRooms', 'AveBedrms', 'Population', 'AveOccup', 'Latitude', 'Longitude']\n",
      "Dataset Target: ['MedHouseVal']\n"
     ]
    }
   ],
   "source": [
    "from sklearn.datasets import fetch_california_housing\n",
    "from sklearn.linear_model import LinearRegression\n",
    "from sklearn.model_selection import KFold, cross_val_score\n",
    "from sklearn.metrics import mean_squared_error, make_scorer\n",
    "import numpy as np\n",
    "from sklearn.utils import shuffle\n",
    "\n",
    "from sklearn.datasets import fetch_california_housing\n",
    "\n",
    "housing = fetch_california_housing()\n",
    "print(\"Dataset Shape:\", housing.data.shape, housing.target.shape)\n",
    "print(\"Dataset Features:\", housing.feature_names)\n",
    "print(\"Dataset Target:\", housing.target_names)\n",
    "X = housing.data\n",
    "y = housing.target"
   ]
  },
  {
   "cell_type": "markdown",
   "id": "b9bc4383-58f5-449c-94b8-39dbe26c2660",
   "metadata": {},
   "source": [
    "Shuffle"
   ]
  },
  {
   "cell_type": "code",
   "execution_count": 21,
   "id": "d2c5b48a-27eb-4cfa-8fc7-558f039ab05f",
   "metadata": {},
   "outputs": [],
   "source": [
    "X, y = shuffle(X, y, random_state=42)"
   ]
  },
  {
   "cell_type": "markdown",
   "id": "6af71bf5-063b-4db5-9ccb-7a68afaefe70",
   "metadata": {},
   "source": [
    "Medir modelo"
   ]
  },
  {
   "cell_type": "code",
   "execution_count": 22,
   "id": "54f44358-f47d-493b-93cf-10aa2314fa20",
   "metadata": {},
   "outputs": [],
   "source": [
    "model = LinearRegression()"
   ]
  },
  {
   "cell_type": "markdown",
   "id": "a494c0da-4e51-4b5c-8551-39aa5c5c3a00",
   "metadata": {},
   "source": [
    "Definir K-Folds"
   ]
  },
  {
   "cell_type": "code",
   "execution_count": 23,
   "id": "bb599140-2c1f-480b-ae10-1bb0caafe25a",
   "metadata": {},
   "outputs": [],
   "source": [
    "kf = KFold(n_splits=10, shuffle=False)"
   ]
  },
  {
   "cell_type": "markdown",
   "id": "7ebe87b0-4270-4eb7-ba22-55cbececfc23",
   "metadata": {},
   "source": [
    "Definir metricas MSE"
   ]
  },
  {
   "cell_type": "code",
   "execution_count": 24,
   "id": "77f39137-aa69-4985-a128-476573e3d057",
   "metadata": {},
   "outputs": [],
   "source": [
    "mse_scorer = make_scorer(mean_squared_error, greater_is_better=False)\n"
   ]
  },
  {
   "cell_type": "markdown",
   "id": "d1aca549-91c0-44f0-8bd2-a4494fed4255",
   "metadata": {},
   "source": [
    "Realizar validacion cruzada"
   ]
  },
  {
   "cell_type": "code",
   "execution_count": 25,
   "id": "31b297ac-ef44-4e2b-beb2-c323d4f7a98d",
   "metadata": {},
   "outputs": [],
   "source": [
    "mse_scores = cross_val_score(model, X, y, cv=kf, scoring=mse_scorer)\n"
   ]
  },
  {
   "cell_type": "markdown",
   "id": "36c12b34-ae34-4790-ad19-ae61f390a417",
   "metadata": {},
   "source": [
    "Convertir a valores positivos"
   ]
  },
  {
   "cell_type": "code",
   "execution_count": 26,
   "id": "a8a7c0dd-2c5b-4c0f-9516-671745aac7d8",
   "metadata": {},
   "outputs": [
    {
     "name": "stdout",
     "output_type": "stream",
     "text": [
      "MSE en cada fold: [0.55900192 0.5531233  0.48116128 0.57420367 0.48897584 0.52838818\n",
      " 0.55117824 0.47483961 0.56436922 0.55002537]\n",
      "MSE promedio: 0.5325266619260611\n",
      "Desviación estándar del MSE: 0.03522806775489593\n"
     ]
    }
   ],
   "source": [
    "mse_scores = -mse_scores\n",
    "\n",
    "print(\"MSE en cada fold:\", mse_scores)\n",
    "print(\"MSE promedio:\", np.mean(mse_scores))\n",
    "print(\"Desviación estándar del MSE:\", np.std(mse_scores))"
   ]
  },
  {
   "cell_type": "markdown",
   "id": "34f7098f-a1de-4508-b3ff-af1484561856",
   "metadata": {},
   "source": [
    "Interpreta."
   ]
  },
  {
   "cell_type": "markdown",
   "id": "b7fbaf4d-f62b-46d9-9a35-23fcdd50a8ca",
   "metadata": {},
   "source": [
    "El MSE en cada fold muestra entre 0.47 y 0.57, lo que muestra que el error del modelo se mantiene estable en todas las particiones"
   ]
  },
  {
   "cell_type": "markdown",
   "id": "333c8039-5b38-4835-a523-d4f6f7a7040b",
   "metadata": {},
   "source": [
    "El MSE promedio es mas o menos 0.533"
   ]
  },
  {
   "cell_type": "markdown",
   "id": "f836b60e-9a6d-4e07-86b6-1bb20b94e34e",
   "metadata": {},
   "source": [
    "La desviacion estandar es de 0.035 que es muy chica en relacion al MSE, indicando que el modelo es consistente entre folds, osea que no hay un sesgo fuerte por la forma en que se dividieron los datos"
   ]
  },
  {
   "cell_type": "markdown",
   "id": "4448958f-b8cf-4e3a-afe7-2bbf462236ac",
   "metadata": {},
   "source": [
    "El modelo de regresion lineal logra capturar cierta relacion entre las variables del dataset y el valor de la vivienda, pero el error sigue siendo alto en terminos practicos.\n",
    "Esto nos indica que aunque es un buen punto de partida, probablemente se necesiten modelos mas complejos o no lineales para mejorar las predicciones"
   ]
  },
  {
   "cell_type": "code",
   "execution_count": null,
   "id": "07c78e8b-2977-4bde-9bad-99b82b4310da",
   "metadata": {},
   "outputs": [],
   "source": []
  },
  {
   "cell_type": "markdown",
   "id": "da5792ac-6d38-4f02-bf10-aeaa0a040d17",
   "metadata": {},
   "source": [
    "## Referencia\n",
    "\n",
    "James, G., Witten, D., Hastie, T., Tibshirani, R.,, Taylor, J. (2023). An Introduction to Statistical Learning with Applications in Python. Cham: Springer. ISBN: 978-3-031-38746-3"
   ]
  }
 ],
 "metadata": {
  "kernelspec": {
   "display_name": "Python [conda env:base] *",
   "language": "python",
   "name": "conda-base-py"
  },
  "language_info": {
   "codemirror_mode": {
    "name": "ipython",
    "version": 3
   },
   "file_extension": ".py",
   "mimetype": "text/x-python",
   "name": "python",
   "nbconvert_exporter": "python",
   "pygments_lexer": "ipython3",
   "version": "3.13.5"
  }
 },
 "nbformat": 4,
 "nbformat_minor": 5
}
