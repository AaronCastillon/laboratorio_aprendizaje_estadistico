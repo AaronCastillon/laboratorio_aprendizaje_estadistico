{
 "cells": [
  {
   "cell_type": "markdown",
   "id": "5a0b2986-cb79-4389-8774-e1e44f5e0b8f",
   "metadata": {},
   "source": [
    "# **Preparacion de datos**"
   ]
  },
  {
   "cell_type": "code",
   "execution_count": 14,
   "id": "f6b4d706-93ce-4da7-8c12-01abd1973d21",
   "metadata": {},
   "outputs": [],
   "source": [
    "import pandas as pd\n",
    "import numpy as np\n",
    "from sklearn.preprocessing import LabelEncoder, StandardScaler, PolynomialFeatures # <-- NUEVO\n",
    "from sklearn.model_selection import StratifiedKFold, RandomizedSearchCV\n",
    "from sklearn.svm import LinearSVC\n",
    "from sklearn.calibration import CalibratedClassifierCV\n",
    "from scipy.stats import loguniform\n",
    "\n",
    "# 1. CARGA DE DATOS Y PREPROCESAMIENTO (IDÉNTICO AL ANTERIOR)\n",
    "\n",
    "df = pd.read_csv('brain_tumor_dataset.csv')\n",
    "columns_to_drop = [\n",
    "    'Patient_ID', 'Symptom_1', 'Symptom_2', 'Symptom_3',\n",
    "    'Radiation_Treatment', 'Surgery_Performed',\n",
    "    'Chemotherapy', 'Follow_Up_Required'\n",
    "]\n",
    "df = df.drop(columns=columns_to_drop)\n",
    "le = LabelEncoder()\n",
    "y = le.fit_transform(df['Tumor_Type'])\n",
    "X = df.drop(columns=['Tumor_Type'])\n",
    "categorical_cols = ['Gender', 'Location', 'Histology', 'Stage', 'Family_History', 'MRI_Result']\n",
    "X = pd.get_dummies(X, columns=categorical_cols, drop_first=True)\n",
    "\n",
    "# 1. Crear características polinomiales de grado 2 (interacciones y cuadrados)\n",
    "# Esto transforma el problema no lineal en un problema lineal de mayor dimensión.\n",
    "poly = PolynomialFeatures(degree=2, include_bias=False)\n",
    "# Usamos .values para aplicar la transformación, y luego convertimos a DataFrame temporalmente\n",
    "X_poly_array = poly.fit_transform(X)\n",
    "X_poly = pd.DataFrame(X_poly_array, columns=poly.get_feature_names_out(X.columns))\n",
    "\n",
    "# 2. Escalado de TODAS las características (ahora incluyendo las polinomiales)\n",
    "scaler = StandardScaler()\n",
    "X_array = scaler.fit_transform(X_poly)\n",
    "y_array = y"
   ]
  },
  {
   "cell_type": "markdown",
   "id": "e90660cc-d76d-4436-a8d8-41ff298d2c51",
   "metadata": {},
   "source": [
    "# **Optimizacion Bayesiana con BayesSearchCV**"
   ]
  },
  {
   "cell_type": "code",
   "execution_count": 15,
   "id": "3bbe8261-f6b9-4667-9ce4-c2e50eac4d57",
   "metadata": {},
   "outputs": [
    {
     "name": "stdout",
     "output_type": "stream",
     "text": [
      "Iniciando la Búsqueda Aleatoria con SVC Lineal y Características Polinomiales...\n",
      "Búsqueda completada.\n"
     ]
    }
   ],
   "source": [
    "# 1. Modelo Base RÁPIDO: LinearSVC\n",
    "base_svc = LinearSVC(\n",
    "    random_state=42,\n",
    "    dual=False,\n",
    "    max_iter=10000\n",
    ")\n",
    "\n",
    "# 2. Envoltorio para Probabilidades: CalibratedClassifierCV\n",
    "calibrated_svc = CalibratedClassifierCV(\n",
    "    estimator=base_svc,\n",
    "    method='sigmoid',\n",
    "    cv=5\n",
    ")\n",
    "\n",
    "# 3. Espacio de Búsqueda para C\n",
    "param_distributions = {\n",
    "    'estimator__C': loguniform(1e-3, 1e3)\n",
    "}\n",
    "\n",
    "# 4. Configurar CV K-Fold (K=10)\n",
    "cv_kfold = StratifiedKFold(n_splits=10, shuffle=True, random_state=42)\n",
    "\n",
    "# 5. Configurar RandomizedSearchCV\n",
    "random_search = RandomizedSearchCV(\n",
    "    estimator=calibrated_svc,\n",
    "    param_distributions=param_distributions,\n",
    "    n_iter=80,\n",
    "    scoring='roc_auc',\n",
    "    cv=cv_kfold,\n",
    "    n_jobs=-1,\n",
    "    verbose=0,\n",
    "    random_state=42\n",
    ")\n",
    "\n",
    "# 6. Ejecutar la Búsqueda\n",
    "print(\"Iniciando la Búsqueda Aleatoria con SVC Lineal y Características Polinomiales...\")\n",
    "random_search.fit(X_array, y_array)\n",
    "print(\"Búsqueda completada.\")"
   ]
  },
  {
   "cell_type": "markdown",
   "id": "50b89008-3312-4be9-a744-8350252a3091",
   "metadata": {},
   "source": [
    "# **Resultados**"
   ]
  },
  {
   "cell_type": "code",
   "execution_count": 16,
   "id": "13dc8482-6fbf-4eba-af32-61caebf2dd4a",
   "metadata": {},
   "outputs": [
    {
     "name": "stdout",
     "output_type": "stream",
     "text": [
      "\n",
      "==================================================\n",
      "RESULTADO FINAL CON INGENIERÍA DE CARACTERÍSTICAS\n",
      "Mejor AUC promedio (CV K=10): 0.5009\n",
      "Mejor valor de C (optimizado): 0.0011\n",
      "==================================================\n"
     ]
    }
   ],
   "source": [
    "best_auc = random_search.best_score_\n",
    "best_C = random_search.best_params_['estimator__C']\n",
    "\n",
    "print(\"\\n\" + \"=\"*50)\n",
    "print(\"RESULTADO FINAL CON INGENIERÍA DE CARACTERÍSTICAS\")\n",
    "print(f\"Mejor AUC promedio (CV K=10): {best_auc:.4f}\")\n",
    "print(f\"Mejor valor de C (optimizado): {best_C:.4f}\")\n",
    "print(\"=\"*50)"
   ]
  },
  {
   "cell_type": "code",
   "execution_count": null,
   "id": "3fefdf99-930a-4cc8-9349-c9f1d280be64",
   "metadata": {},
   "outputs": [],
   "source": []
  }
 ],
 "metadata": {
  "kernelspec": {
   "display_name": "Python [conda env:base] *",
   "language": "python",
   "name": "conda-base-py"
  },
  "language_info": {
   "codemirror_mode": {
    "name": "ipython",
    "version": 3
   },
   "file_extension": ".py",
   "mimetype": "text/x-python",
   "name": "python",
   "nbconvert_exporter": "python",
   "pygments_lexer": "ipython3",
   "version": "3.13.5"
  }
 },
 "nbformat": 4,
 "nbformat_minor": 5
}
