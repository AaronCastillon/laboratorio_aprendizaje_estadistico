{
 "cells": [
  {
   "cell_type": "markdown",
   "id": "2e2753e4-9dc7-41d7-b080-d1abfbb16b28",
   "metadata": {},
   "source": [
    "# Laboratorio de regresión - 4"
   ]
  },
  {
   "cell_type": "markdown",
   "id": "c396ea70-b88c-4346-a14f-4aa7ca2e1b00",
   "metadata": {},
   "source": [
    "|                |   |\r\n",
    ":----------------|---|\r\n",
    "| **Nombre**     Miguel Aaron Castillon Ochoa|   |\r\n",
    "| **Fecha**     09/11/2025 |   |\r\n",
    "| **Expediente*751858* |   |"
   ]
  },
  {
   "cell_type": "markdown",
   "id": "77def53e-10bf-474e-acdf-728e07bef102",
   "metadata": {},
   "source": [
    "## Modelos penalizados"
   ]
  },
  {
   "cell_type": "markdown",
   "id": "d9bb791d-1843-4b4d-bd8b-69e6419511e8",
   "metadata": {},
   "source": [
    "Hasta ahora la función de costo que usamos para decidir qué tan bueno es nuestro modelo al momento de ajustar es:\n",
    "\n",
    "$$ \\text{RSS} = \\sum_{i=1}^n e_i^2 = \\sum_{i=1}^n (y_i - \\hat{y_i})^2 $$"
   ]
  },
  {
   "cell_type": "markdown",
   "id": "4e6b5e6b-abe9-4b75-b045-e4444de4fc35",
   "metadata": {},
   "source": [
    "Dado que los errores obtenidos son una combinación de sesgo y varianza, puede ser que se sesgue un parámetro para minimizar el error. Esto significa que el modelo puede decidir que la salida no sea una combinación de los factores, sino una fuerte predilección sobre uno de los factores solamente. "
   ]
  },
  {
   "cell_type": "markdown",
   "id": "84901f9e-5551-455a-a70c-c7e39d9e55ae",
   "metadata": {},
   "source": [
    "E.g. se quiere ajustar un modelo\n",
    "\n",
    "$$ \\hat{z} = \\hat{\\beta_0} + \\hat{\\beta_1} x + \\hat{\\beta_2} y $$"
   ]
  },
  {
   "cell_type": "markdown",
   "id": "d6f473fc-6364-4b15-9bd4-f21a94cae151",
   "metadata": {},
   "source": [
    "Se ajusta el modelo y se decide que la mejor decisión es $\\hat{\\beta_1} = 10000$ y $\\hat{\\beta_2}=50$. Considera limitaciones de problemas reales:\n",
    "- Quizás los parámetros son ajustes de maquinaria que se deben realizar para conseguir el mejor producto posible, y que $10000$ sea imposible de asignar.\n",
    "- Quizás los datos actuales están sesgados y sólo hacen parecer que uno de los factores importa más que el otro."
   ]
  },
  {
   "cell_type": "markdown",
   "id": "ff32fbaa-7965-42c1-9b73-3640414b77f2",
   "metadata": {},
   "source": [
    "Una de las formas en las que se puede mitigar este problema es penalizando a los parámetros del modelo, cambiando la función de costo:"
   ]
  },
  {
   "cell_type": "markdown",
   "id": "3fc78736-9d8e-4e8b-94f3-6647bdaeb0d1",
   "metadata": {},
   "source": [
    "$$ \\text{RSS}_{L2} = \\sum_{i=1}^n e_i^2  + \\lambda \\sum_{j=1}^p \\hat{\\beta_j}^2 $$"
   ]
  },
  {
   "cell_type": "markdown",
   "id": "2d942bf5-fb39-44a0-b612-4ec05ab99b71",
   "metadata": {},
   "source": [
    "El *L2* significa que se está agregando una penalización de segundo orden. Lo que hace esta penalización es que los factores ahora sólo tendrán permitido crecer si hay una reducción al menos proporcional en el error (sacrificamos sesgo, pero reducimos la varianza)."
   ]
  },
  {
   "cell_type": "markdown",
   "id": "45c0cafb-c152-48e4-a345-bb5348eb16c7",
   "metadata": {},
   "source": [
    "Asimismo, existe la penalización *L1*"
   ]
  },
  {
   "cell_type": "markdown",
   "id": "9d9f2d93-d151-47ed-834f-4a7e91e94286",
   "metadata": {},
   "source": [
    "$$ \\text{RSS}_{L1} = \\sum_{i=1}^n e_i^2  + \\lambda \\sum_{j=1}^p |\\hat{\\beta_j}| $$"
   ]
  },
  {
   "cell_type": "markdown",
   "id": "ea95f232-25ab-4b4c-99b3-075a18878d95",
   "metadata": {},
   "source": [
    "A las penalizaciones *L2* y *L1* se les conoce también como Ridge y Lasso, respectivamente."
   ]
  },
  {
   "cell_type": "markdown",
   "id": "e41dfafb-fd1f-475a-a718-dec1e3773326",
   "metadata": {},
   "source": [
    "Para realizar una regresión con penalización de Ridge o de Lasso usamos el objeto `Ridge(alpha=?)` o `Lasso(alpha=?)` en lugar de `LinearRegression()` de `sklearn`."
   ]
  },
  {
   "cell_type": "markdown",
   "id": "ce36cb41-005e-4cb0-b8ab-92e6ae6c4c19",
   "metadata": {},
   "source": [
    "Utiliza el dataset de publicidad (Advertising.csv) y realiza 3 regresiones múltiples:\n",
    "\n",
    "$$ \\text{sales} = \\beta_0 + \\beta_1 (\\text{TV}) + \\beta_2 (\\text{radio}) + \\beta_3 (\\text{newspaper}) + \\epsilon $$"
   ]
  },
  {
   "cell_type": "markdown",
   "id": "d92e4008-ada1-4e82-9756-23fd357821d2",
   "metadata": {},
   "source": [
    "1. Sin penalización\n",
    "2. Con penalización L2\n",
    "3. Con penalización L1\n",
    "\n",
    "Compara los resultados de los parámetros y sus *p-values*, y los $R^2$ resultantes."
   ]
  },
  {
   "cell_type": "markdown",
   "id": "2c021427-4e95-4cb7-ad5d-fd865b6c43e8",
   "metadata": {},
   "source": [
    "## Librerias"
   ]
  },
  {
   "cell_type": "code",
   "execution_count": 1,
   "id": "489b6c52-9025-4ca7-8e96-ca70c294cf7c",
   "metadata": {},
   "outputs": [],
   "source": [
    "import pandas as pd\n",
    "import numpy as np\n",
    "from sklearn.model_selection import train_test_split\n",
    "from sklearn.linear_model import LinearRegression, Ridge, Lasso\n",
    "from sklearn.metrics import mean_squared_error, r2_score"
   ]
  },
  {
   "cell_type": "markdown",
   "id": "c54b3911-3da0-4aeb-b71f-631a4cb95b29",
   "metadata": {},
   "source": [
    "## Cargar dataset"
   ]
  },
  {
   "cell_type": "code",
   "execution_count": 2,
   "id": "6f859166-06cf-478e-89d7-e6e5c2cb5ff0",
   "metadata": {},
   "outputs": [
    {
     "name": "stdout",
     "output_type": "stream",
     "text": [
      "   Unnamed: 0     TV  radio  newspaper  sales\n",
      "0           1  230.1   37.8       69.2   22.1\n",
      "1           2   44.5   39.3       45.1   10.4\n",
      "2           3   17.2   45.9       69.3    9.3\n",
      "3           4  151.5   41.3       58.5   18.5\n",
      "4           5  180.8   10.8       58.4   12.9\n"
     ]
    }
   ],
   "source": [
    "df = pd.read_csv(\"Advertising.csv\")\n",
    "print(df.head())"
   ]
  },
  {
   "cell_type": "markdown",
   "id": "ca89abba-ba61-471d-a126-5df9bf552afe",
   "metadata": {},
   "source": [
    "## Definir variables"
   ]
  },
  {
   "cell_type": "code",
   "execution_count": 3,
   "id": "53efacc6-e600-4705-b180-3d297324a244",
   "metadata": {},
   "outputs": [],
   "source": [
    "X = df[[\"TV\", \"radio\", \"newspaper\"]]\n",
    "y = df[\"sales\"]"
   ]
  },
  {
   "cell_type": "markdown",
   "id": "319b51b7-dfe6-41e0-aabe-0f99dd5d67c4",
   "metadata": {},
   "source": [
    "## Train y test"
   ]
  },
  {
   "cell_type": "code",
   "execution_count": 4,
   "id": "58b3b887-4736-4812-abc9-256d5ade4ca1",
   "metadata": {},
   "outputs": [],
   "source": [
    "X_train, X_test, y_train, y_test = train_test_split(X, y, test_size=0.2, random_state=42)\n"
   ]
  },
  {
   "cell_type": "code",
   "execution_count": 5,
   "id": "4507fec0-0548-4b87-b97e-582af103859d",
   "metadata": {},
   "outputs": [],
   "source": [
    "resultados = {}"
   ]
  },
  {
   "cell_type": "markdown",
   "id": "c85dc5f5-65dc-4c5c-94a5-9ec3a2921712",
   "metadata": {},
   "source": [
    "## Modelo OLS"
   ]
  },
  {
   "cell_type": "code",
   "execution_count": 6,
   "id": "bb29a3e3-54de-454e-a17d-4916f4ca7210",
   "metadata": {},
   "outputs": [],
   "source": [
    "ols = LinearRegression()\n",
    "ols.fit(X_train, y_train)\n",
    "y_pred_ols = ols.predict(X_test)\n",
    "\n",
    "resultados[\"OLS\"] = {\n",
    "    \"Coeficientes\": ols.coef_,\n",
    "    \"Intercepto\": ols.intercept_,\n",
    "    \"R2\": r2_score(y_test, y_pred_ols),\n",
    "    \"MSE\": mean_squared_error(y_test, y_pred_ols)\n",
    "}"
   ]
  },
  {
   "cell_type": "markdown",
   "id": "532cf325-d6c4-4a6d-ab49-fa1495d181c4",
   "metadata": {},
   "source": [
    "## Modelo Ridge"
   ]
  },
  {
   "cell_type": "code",
   "execution_count": 7,
   "id": "51b543dd-670d-4740-93c7-9982a6930916",
   "metadata": {},
   "outputs": [],
   "source": [
    "ridge = Ridge(alpha=1.0)  # puedes ajustar alpha\n",
    "ridge.fit(X_train, y_train)\n",
    "y_pred_ridge = ridge.predict(X_test)\n",
    "\n",
    "resultados[\"Ridge\"] = {\n",
    "    \"Coeficientes\": ridge.coef_,\n",
    "    \"Intercepto\": ridge.intercept_,\n",
    "    \"R2\": r2_score(y_test, y_pred_ridge),\n",
    "    \"MSE\": mean_squared_error(y_test, y_pred_ridge)\n",
    "}"
   ]
  },
  {
   "cell_type": "markdown",
   "id": "7593295c-44e2-45c2-ba61-fbc6a82b9328",
   "metadata": {},
   "source": [
    "## Modelo Lasso"
   ]
  },
  {
   "cell_type": "code",
   "execution_count": 9,
   "id": "8fb5c94c-74ee-4955-bbd9-3a8a9d45d92f",
   "metadata": {},
   "outputs": [],
   "source": [
    "lasso = Lasso(alpha=0.1)  # puedes ajustar alpha\n",
    "lasso.fit(X_train, y_train)\n",
    "y_pred_lasso = lasso.predict(X_test)\n",
    "\n",
    "resultados[\"Lasso\"] = {\n",
    "    \"Coeficientes\": lasso.coef_,\n",
    "    \"Intercepto\": lasso.intercept_,\n",
    "    \"R2\": r2_score(y_test, y_pred_lasso),\n",
    "    \"MSE\": mean_squared_error(y_test, y_pred_lasso)\n",
    "}"
   ]
  },
  {
   "cell_type": "markdown",
   "id": "cfb55f19-f102-402c-90ca-e8ffcd8c3798",
   "metadata": {},
   "source": [
    "## Resultados"
   ]
  },
  {
   "cell_type": "code",
   "execution_count": 10,
   "id": "65561a5f-3f79-4252-8102-beab68aed7b7",
   "metadata": {},
   "outputs": [
    {
     "name": "stdout",
     "output_type": "stream",
     "text": [
      "\n",
      "Modelo: OLS\n",
      "Coeficientes: [0.04472952 0.18919505 0.00276111]\n",
      "Intercepto: 2.979067338122629\n",
      "R2: 0.8994\n",
      "MSE: 3.1741\n",
      "\n",
      "Modelo: Ridge\n",
      "Coeficientes: [0.04472953 0.18918869 0.00276287]\n",
      "Intercepto: 2.97915853521409\n",
      "R2: 0.8994\n",
      "MSE: 3.1741\n",
      "\n",
      "Modelo: Lasso\n",
      "Coeficientes: [0.04471961 0.18881106 0.00262707]\n",
      "Intercepto: 2.993352005331829\n",
      "R2: 0.8996\n",
      "MSE: 3.1705\n"
     ]
    }
   ],
   "source": [
    "for modelo, valores in resultados.items():\n",
    "    print(\"\\nModelo:\", modelo)\n",
    "    print(\"Coeficientes:\", valores[\"Coeficientes\"])\n",
    "    print(\"Intercepto:\", valores[\"Intercepto\"])\n",
    "    print(\"R2:\", round(valores[\"R2\"], 4))\n",
    "    print(\"MSE:\", round(valores[\"MSE\"], 4))"
   ]
  },
  {
   "cell_type": "markdown",
   "id": "46842774-67a5-4ef9-ad4b-7a9d31fae85a",
   "metadata": {},
   "source": [
    "## Comparación\n",
    "\n",
    "#### Precisión (R² y MSE):\n",
    "\n",
    "Los tres modelos explican ~90% de la variabilidad de las ventas, con errores casi iguales.\n",
    "\n",
    "Lasso tiene un rendimiento apenas superior (menor MSE y mayor R²).\n",
    "\n",
    "#### Efecto en los coeficientes:\n",
    "\n",
    "OLS y Ridge producen coeficientes muy similares, ya que Ridge solo penaliza si los valores de los parámetros son muy grandes (aquí no es el caso).\n",
    "\n",
    "Lasso empuja más hacia valores pequeños, especialmente en la variable Newspaper, que ya de por sí aporta muy poco al modelo (coeficiente cercano a 0).\n",
    "\n",
    "#### Interpretación práctica:\n",
    "\n",
    "En este dataset, TV y Radio son los predictores más importantes.\n",
    "\n",
    "Newspaper tiene una influencia casi nula en las ventas.\n",
    "\n",
    "Usar Lasso puede ser más útil cuando queremos simplificar el modelo y reducir variables irrelevantes."
   ]
  },
  {
   "cell_type": "markdown",
   "id": "d6d2dcc9-0a16-40e3-aa32-1e53d54f5950",
   "metadata": {},
   "source": [
    "## Conclusion\n",
    "\n",
    "Los tres modelos son buenos, pero Lasso ofrece la mejor combinación de simplicidad y precisión en este caso. Ridge no aporta mejoras porque los coeficientes no son extremos. OLS sigue siendo perfectamente válido como baseline."
   ]
  },
  {
   "cell_type": "code",
   "execution_count": null,
   "id": "b77425bb-be10-44c7-b990-16b4cb892bf5",
   "metadata": {},
   "outputs": [],
   "source": []
  }
 ],
 "metadata": {
  "kernelspec": {
   "display_name": "Python [conda env:base] *",
   "language": "python",
   "name": "conda-base-py"
  },
  "language_info": {
   "codemirror_mode": {
    "name": "ipython",
    "version": 3
   },
   "file_extension": ".py",
   "mimetype": "text/x-python",
   "name": "python",
   "nbconvert_exporter": "python",
   "pygments_lexer": "ipython3",
   "version": "3.13.5"
  }
 },
 "nbformat": 4,
 "nbformat_minor": 5
}
