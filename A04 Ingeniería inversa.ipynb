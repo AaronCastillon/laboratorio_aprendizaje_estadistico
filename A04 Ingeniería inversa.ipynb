{
 "cells": [
  {
   "cell_type": "code",
   "execution_count": 1,
   "id": "bc9dc734-cdfa-45b7-8a34-8b9c0606486e",
   "metadata": {},
   "outputs": [
    {
     "name": "stdout",
     "output_type": "stream",
     "text": [
      "['Ariel Sharon' 'Colin Powell' 'Donald Rumsfeld' 'George W Bush'\n",
      " 'Gerhard Schroeder' 'Hugo Chavez' 'Junichiro Koizumi' 'Tony Blair']\n",
      "(1348, 62, 47)\n"
     ]
    }
   ],
   "source": [
    "from sklearn.datasets import fetch_lfw_people\n",
    "faces = fetch_lfw_people(min_faces_per_person=60)\n",
    "print(faces.target_names)\n",
    "print(faces.images.shape)"
   ]
  },
  {
   "cell_type": "markdown",
   "id": "8ae1c11b-eb45-4b35-81d3-ec336aae80a4",
   "metadata": {},
   "source": [
    "### **Que hace esta celda?**\n",
    "Esta celda descarga y carga el conjunto de datos \"Labeled Faces in the Wild (LFW)\", un dataset muy usado en aprendizaje automatico para experimentos de reconocimiento facial.\n",
    "Luego, imprime los nombres de las personas incluidas y las dimensiones del conjunto de imagenes.\n",
    "\n",
    "### **Explicacion paso a paso**\n",
    "- ```fetch_lfw_people``` carga el dataset Labeled Faces in the Wild (LFW), un conjunto de imagenes de rostros usado para reconocimiento facial.\n",
    "\n",
    "- El parámetro ```min_faces_per_person=60``` filtra el conjunto para incluir solo personas con al menos 60 fotografías, evitando clases con pocos ejemplos.\n",
    "\n",
    "- ```faces.target_names``` muestra los nombres de las personas (clases).\n",
    "\n",
    "- ```faces.images.shape``` indica las dimensiones del dataset, por ejemplo ```(1348, 62, 47)``` → 1348 imágenes de tamaño 62×47 píxeles."
   ]
  },
  {
   "cell_type": "code",
   "execution_count": 2,
   "id": "03f26e2a-361b-4864-89ae-cee0f9c66b0c",
   "metadata": {},
   "outputs": [],
   "source": [
    "import matplotlib.pyplot as plt\n",
    "%matplotlib inline\n",
    "\n",
    "fig, ax = plt.subplots(3, 5)\n",
    "for i, axi in enumerate(ax.flat):\n",
    "    axi.imshow(faces.images[i], cmap='bone')\n",
    "    axi.set(xticks=[], yticks=[],\n",
    "            xlabel=faces.target_names[faces.target[i]])"
   ]
  },
  {
   "cell_type": "markdown",
   "id": "00189c81-7142-4d48-80c9-34218850e495",
   "metadata": {},
   "source": [
    "### **Que hace esta celda?**\n",
    "Esta celda crea una cuadrícula de subgráficos para **inspeccionar visualmente** algunas imágenes del dataset LFW y verificar que la carga de datos sea correcta. Al mostrar las primeras 15 caras con su etiqueta, nos formamos una idea rápida de la **variabilidad** entre clases y de la **calidad** de las imágenes antes de continuar con el modelado.\n",
    "\n",
    "\n",
    "### **Explicacion paso a paso**\n",
    "- Se importa ```matplotlib.pyplot``` para crear gráficos y se usa %matplotlib inline para mostrar las imágenes dentro del notebook.\n",
    "\n",
    "- ```plt.subplots(3, 5)``` crea una cuadrícula de 3 filas y 5 columnas de ejes.\n",
    "\n",
    "- En el bucle ```for```, se muestran las primeras 15 imágenes del dataset (```faces.images[i]```) en escala de grises (```cmap='bone'```).\n",
    "\n",
    "- Se eliminan los ejes (```xticks=[]```, ```yticks=[]```) y se muestra el nombre de la persona debajo de cada imagen."
   ]
  },
  {
   "cell_type": "code",
   "execution_count": 3,
   "id": "b525bd62-455d-4fd1-a4d0-1c8b77ec381a",
   "metadata": {},
   "outputs": [],
   "source": [
    "from sklearn.svm import SVC\n",
    "from sklearn.decomposition import PCA as RandomizedPCA\n",
    "from sklearn.pipeline import make_pipeline\n",
    "\n",
    "pca = RandomizedPCA(n_components=150, whiten=True, random_state=42)\n",
    "svc = SVC(kernel='rbf', class_weight='balanced')\n",
    "model = make_pipeline(pca, svc)"
   ]
  },
  {
   "cell_type": "markdown",
   "id": "7315c853-26b7-47f2-970f-f698e44e7754",
   "metadata": {},
   "source": [
    "### **Que hace esta celda?**\n",
    "En esta celda se construye un **modelo de clasificación de rostros** combinando dos etapas:  \n",
    "una **reducción de dimensionalidad** mediante *PCA* y una **clasificación** con una *Máquina de Vectores de Soporte (SVM)*.  \n",
    "Esto permite simplificar los datos (imágenes con miles de píxeles) y mejorar el rendimiento del clasificador.\n",
    "\n",
    "\n",
    "### **Explicacion paso a paso**\n",
    "- ```PCA(n_components=150)``` reduce las imágenes a 150 componentes principales, conservando la mayor parte de la varianza (información relevante).\n",
    "\n",
    "- ```whiten=True``` normaliza las componentes para que tengan varianza unitaria, mejorando el desempeño del modelo.\n",
    "\n",
    "- ```SVC(kernel='rbf')``` crea un clasificador SVM con kernel radial, adecuado para datos no lineales.\n",
    "\n",
    "- ```class_weight='balanced'``` ajusta automáticamente el peso de cada clase según su frecuencia.\n",
    "\n",
    "- ```make_pipeline(pca, svc)``` une ambos pasos en un flujo de trabajo (pipeline), aplicando primero el PCA y luego el SVM."
   ]
  },
  {
   "cell_type": "code",
   "execution_count": 4,
   "id": "bb810b05-f879-4679-a41c-26f555ae7516",
   "metadata": {},
   "outputs": [],
   "source": [
    "from sklearn.model_selection import train_test_split\n",
    "Xtrain, Xtest, ytrain, ytest = train_test_split(faces.data, faces.target, random_state=42)"
   ]
  },
  {
   "cell_type": "markdown",
   "id": "c5c8e8f8-ee9a-46ea-a1b4-a43097f9ec5a",
   "metadata": {},
   "source": [
    "### **Que hace esta celda?**\n",
    "Esta celda separa el conjunto de imágenes en **datos de entrenamiento y prueba**, lo que permite evaluar el rendimiento real del modelo en datos no vistos.  \n",
    "El entrenamiento sirve para ajustar los parámetros del modelo, mientras que la prueba mide su capacidad de generalización.\n",
    "\n",
    "\n",
    "### **Explicacion paso a paso**\n",
    "- ```train_test_split``` divide los datos (```faces.data```) y las etiquetas (```faces.target```) en dos subconjuntos.\n",
    "\n",
    "- Por defecto, usa 75 % para entrenamiento y 25 % para prueba.\n",
    "\n",
    "- ```random_state=42``` fija la semilla aleatoria para garantizar que la división sea reproducible."
   ]
  },
  {
   "cell_type": "code",
   "execution_count": 5,
   "id": "5ae8acf4-0feb-4081-b566-38f7b30939fc",
   "metadata": {},
   "outputs": [
    {
     "name": "stdout",
     "output_type": "stream",
     "text": [
      "CPU times: total: 55.1 s\n",
      "Wall time: 43.4 s\n",
      "{'svc__C': 5, 'svc__gamma': 0.001}\n"
     ]
    }
   ],
   "source": [
    "from sklearn.model_selection import GridSearchCV\n",
    "param_grid = {'svc__C': [1, 5, 10, 50],\n",
    "              'svc__gamma': [0.0001, 0.0005, 0.001, 0.005]}\n",
    "grid = GridSearchCV(model, param_grid)\n",
    "\n",
    "%time grid.fit(Xtrain, ytrain)\n",
    "print(grid.best_params_)"
   ]
  },
  {
   "cell_type": "markdown",
   "id": "d174cc2d-b13f-4a9d-9e33-c3f04ce4f92e",
   "metadata": {},
   "source": [
    "### **Que hace esta celda?**\n",
    "Esta celda realiza una **búsqueda exhaustiva de hiperparámetros** para optimizar el rendimiento del modelo SVM dentro del pipeline.  \n",
    "El objetivo es encontrar los valores de `C` y `gamma` que producen la mejor precisión en validación cruzada.\n",
    "\n",
    "### **Explicacion paso a paso**\n",
    "- ```param_grid``` define las combinaciones de hiperparámetros que se probarán:\n",
    "\n",
    "    - ```C```: controla la penalización por error (regularización).\n",
    "\n",
    "    - ```gamma```: define la influencia de cada punto en el kernel RBF.\n",
    "\n",
    "- Los prefijos ```svc__``` indican que los parámetros pertenecen al SVC dentro del pipeline.\n",
    "\n",
    "- ```GridSearchCV``` entrena el modelo con todas las combinaciones posibles usando validación cruzada.\n",
    "\n",
    "- ```grid.best_params_``` muestra los valores óptimos encontrados.\n",
    "\n",
    "- ```%time``` mide el tiempo de ejecución del proceso."
   ]
  },
  {
   "cell_type": "code",
   "execution_count": 6,
   "id": "0fb9e960-fd19-4f29-9073-6805b9a66b22",
   "metadata": {},
   "outputs": [],
   "source": [
    "model = grid.best_estimator_\n",
    "yfit = model.predict(Xtest)"
   ]
  },
  {
   "cell_type": "markdown",
   "id": "30fe5c8e-ce1d-4577-b423-dc34b8ac295d",
   "metadata": {},
   "source": [
    "### **Que hace esta celda?**\n",
    "Esta celda utiliza el **mejor modelo encontrado por la búsqueda en malla (GridSearchCV)** para hacer predicciones sobre los datos de prueba.  \n",
    "Así se evalúa el rendimiento final del clasificador con los hiperparámetros óptimos.\n",
    "\n",
    "\n",
    "### **Explicacion paso a paso**\n",
    "- ```grid.best_estimator_``` recupera el modelo con la mejor combinación de parámetros (```C``` y ```gamma```) hallada en la búsqueda.\n",
    "\n",
    "- ```model.predict(Xtest)``` aplica ese modelo optimizado para predecir las etiquetas de las imágenes de prueba.\n",
    "\n",
    "- El resultado ```yfit``` contiene las clases predichas para cada rostro en ```Xtest```."
   ]
  },
  {
   "cell_type": "code",
   "execution_count": 7,
   "id": "5196d051-d218-48f7-9ae3-95628cb2032a",
   "metadata": {},
   "outputs": [],
   "source": [
    "fig, ax = plt.subplots(4, 6)\n",
    "for i, axi in enumerate(ax.flat):\n",
    "    axi.imshow(Xtest[i].reshape(62, 47), cmap='bone')\n",
    "    axi.set(xticks=[], yticks=[])\n",
    "    axi.set_ylabel(faces.target_names[yfit[i]].split()[-1],\n",
    "                   color='black' if yfit[i] == ytest[i] else 'red')"
   ]
  },
  {
   "cell_type": "markdown",
   "id": "d0435414-3895-4885-9615-c30fa213a51d",
   "metadata": {},
   "source": [
    "### **Que hace esta celda?**\n",
    "Esta celda muestra una **muestra de imágenes de prueba** junto con sus **predicciones** para observar visualmente el desempeño del modelo.  \n",
    "Las etiquetas correctas aparecen en **negro** y las incorrectas en **rojo**, lo que permite identificar fácilmente los errores de clasificación.\n",
    "\n",
    "\n",
    "### **Explicacion paso a paso**\n",
    "- ```plt.subplots(4, 6)``` crea una cuadrícula de 24 imágenes.\n",
    "\n",
    "- Cada imagen de ```Xtest``` se reconvierte a su forma original (62×47 píxeles).\n",
    "\n",
    "- El nombre predicho (```yfit[i]```) se muestra como etiqueta;\n",
    "si coincide con la etiqueta real (```ytest[i]```), el texto es negro, y si no, rojo.\n",
    "\n",
    "- Esto proporciona una evaluación visual rápida de los aciertos y errores del modelo."
   ]
  },
  {
   "cell_type": "code",
   "execution_count": 8,
   "id": "71e4113c-3406-4105-bfec-188fca82ddd0",
   "metadata": {},
   "outputs": [
    {
     "name": "stdout",
     "output_type": "stream",
     "text": [
      "                   precision    recall  f1-score   support\n",
      "\n",
      "     Ariel Sharon       0.65      0.87      0.74        15\n",
      "     Colin Powell       0.83      0.88      0.86        68\n",
      "  Donald Rumsfeld       0.70      0.84      0.76        31\n",
      "    George W Bush       0.97      0.80      0.88       126\n",
      "Gerhard Schroeder       0.76      0.83      0.79        23\n",
      "      Hugo Chavez       0.93      0.70      0.80        20\n",
      "Junichiro Koizumi       0.86      1.00      0.92        12\n",
      "       Tony Blair       0.82      0.98      0.89        42\n",
      "\n",
      "         accuracy                           0.85       337\n",
      "        macro avg       0.82      0.86      0.83       337\n",
      "     weighted avg       0.86      0.85      0.85       337\n",
      "\n"
     ]
    }
   ],
   "source": [
    "\n",
    "from sklearn.metrics import classification_report\n",
    "print(classification_report(ytest, yfit,\n",
    "                            target_names=faces.target_names))"
   ]
  },
  {
   "cell_type": "markdown",
   "id": "6a81a9dc-b9df-443f-82e9-22c125c3afda",
   "metadata": {},
   "source": [
    "### **Que hace esta celda?**\n",
    "Esta celda genera un **informe de clasificación** que resume el rendimiento del modelo mediante métricas estadísticas clave.  \n",
    "Permite identificar qué tan bien el modelo reconoce cada rostro.\n",
    "\n",
    "### **Explicacion paso a paso**\n",
    "- ```classification_report``` compara las etiquetas reales (```ytest```) con las predichas (```yfit```).\n",
    "\n",
    "- Muestra métricas por clase:\n",
    "\n",
    "    - **Precisión (precision)**: proporción de predicciones correctas entre las positivas.\n",
    "\n",
    "    - **Exhaustividad (recall)**: capacidad del modelo para detectar todas las instancias reales.\n",
    "\n",
    "    - **F1-score**: media armónica entre precisión y recall.\n",
    "\n",
    "- ```target_names``` asocia los resultados con los nombres reales de las personas."
   ]
  },
  {
   "cell_type": "code",
   "execution_count": 9,
   "id": "e567f88c-569e-42f3-a186-57477fca0e64",
   "metadata": {},
   "outputs": [
    {
     "data": {
      "text/plain": [
       "<Axes: >"
      ]
     },
     "execution_count": 9,
     "metadata": {},
     "output_type": "execute_result"
    }
   ],
   "source": [
    "import seaborn as sns\n",
    "from sklearn.metrics import confusion_matrix\n",
    "mat = confusion_matrix(ytest, yfit)\n",
    "sns.heatmap(mat.T, square=True, annot=True, fmt='d', cbar=False,\n",
    "            xticklabels=faces.target_names,\n",
    "            yticklabels=faces.target_names)"
   ]
  },
  {
   "cell_type": "markdown",
   "id": "fb627038-608f-4ec8-91a5-de34789bfafe",
   "metadata": {},
   "source": [
    "### **Que hace esta celda?**\n",
    "Esta celda muestra una **matriz de confusión**, una herramienta visual para evaluar qué tan bien el modelo clasifica cada rostro.  \n",
    "Permite ver fácilmente en qué clases se confunde el clasificador.\n",
    "\n",
    "\n",
    "### **Explicacion paso a paso**\n",
    "- ```confusion_matrix(ytest, yfit)``` genera una tabla donde cada fila representa las clases reales y cada columna las predicciones.\n",
    "\n",
    "- ```sns.heatmap``` visualiza esa matriz como un mapa de calor, mostrando con números (```annot=True```) la cantidad de aciertos y errores.\n",
    "\n",
    "- Las etiquetas de los ejes (```xticklabels``` y ```yticklabels```) corresponden a los nombres de las personas del dataset.\n",
    "\n",
    "- Los valores altos en la diagonal indican buen rendimiento, mientras que los fuera de ella muestran confusiones entre clases.\n"
   ]
  },
  {
   "cell_type": "markdown",
   "id": "2f58115d-173e-4fd2-8909-1f99d667423c",
   "metadata": {},
   "source": [
    "## **Dataset load_digits**"
   ]
  },
  {
   "cell_type": "markdown",
   "id": "c0f7f372-e0e9-4ad5-ba81-d6fff4fdd362",
   "metadata": {},
   "source": [
    "### **Celda 1 — Carga del dataset Digits**\n",
    "Cargamos el conjunto **Digits** y mostramos los nombres de clase y la forma de las imágenes.\n"
   ]
  },
  {
   "cell_type": "code",
   "execution_count": 10,
   "id": "2697f7b5-a8d3-41ab-bdfa-96220973139b",
   "metadata": {},
   "outputs": [
    {
     "name": "stdout",
     "output_type": "stream",
     "text": [
      "[0 1 2 3 4 5 6 7 8 9]\n",
      "(1797, 8, 8)\n"
     ]
    }
   ],
   "source": [
    "from sklearn.datasets import load_digits\n",
    "digits = load_digits()\n",
    "print(getattr(digits, \"target_names\", list(range(10))))\n",
    "print(digits.images.shape)\n"
   ]
  },
  {
   "cell_type": "markdown",
   "id": "8dc44abd-57f8-4fbb-908d-bf9083530a27",
   "metadata": {},
   "source": [
    "### Celda 2 — Visualización de ejemplos del dataset\n",
    "Mostramos una cuadrícula de imágenes para inspección visual rápida (mismas convenciones que antes).\n"
   ]
  },
  {
   "cell_type": "code",
   "execution_count": 12,
   "id": "839a95d0-27b5-4f32-886b-aa05da8989f3",
   "metadata": {},
   "outputs": [],
   "source": [
    "import matplotlib.pyplot as plt\n",
    "%matplotlib inline\n",
    "\n",
    "fig, ax = plt.subplots(3, 5)\n",
    "for i, axi in enumerate(ax.flat):\n",
    "    axi.imshow(digits.images[i], cmap='bone')\n",
    "    axi.set(xticks=[], yticks=[],\n",
    "            xlabel=str(digits.target[i]))\n"
   ]
  },
  {
   "cell_type": "markdown",
   "id": "e469eabb-78ef-45de-ad51-e89ff3b64379",
   "metadata": {},
   "source": [
    "### Celda 3 — Creación del modelo con PCA y SVM\n",
    "Construimos el **pipeline** con PCA (blanqueado) + SVC (RBF), igual que antes.\n"
   ]
  },
  {
   "cell_type": "code",
   "execution_count": 13,
   "id": "5fc3a4c5-c9c4-4baf-a122-7465bdf62552",
   "metadata": {},
   "outputs": [],
   "source": [
    "from sklearn.svm import SVC\n",
    "from sklearn.decomposition import PCA as RandomizedPCA\n",
    "from sklearn.pipeline import make_pipeline\n",
    "\n",
    "pca = RandomizedPCA(n_components=40, whiten=True, random_state=42)\n",
    "svc = SVC(kernel='rbf', class_weight='balanced')\n",
    "model = make_pipeline(pca, svc)\n"
   ]
  },
  {
   "cell_type": "markdown",
   "id": "a4abc0d3-37ac-4276-94df-b21cd9e51867",
   "metadata": {},
   "source": [
    "### Celda 4 — División del conjunto de datos\n",
    "Separación en **entrenamiento** y **prueba** con semilla fija (por defecto 75/25).\n"
   ]
  },
  {
   "cell_type": "code",
   "execution_count": 14,
   "id": "d7b70125-4171-41da-87fd-3ae7d79d1993",
   "metadata": {},
   "outputs": [],
   "source": [
    "from sklearn.model_selection import train_test_split\n",
    "Xtrain, Xtest, ytrain, ytest = train_test_split(digits.data, digits.target, random_state=42)\n"
   ]
  },
  {
   "cell_type": "markdown",
   "id": "d44e069e-e895-4dcf-b1b2-4118c86b1450",
   "metadata": {},
   "source": [
    "### Celda 5 — Búsqueda de hiperparámetros con GridSearchCV\n",
    "Optimizamos `C` y `gamma` del SVC dentro del mismo pipeline (mismo grid y prefijos).\n"
   ]
  },
  {
   "cell_type": "code",
   "execution_count": 15,
   "id": "39cb970b-bfb1-4f81-8e11-e9c133fcf1b4",
   "metadata": {},
   "outputs": [
    {
     "name": "stdout",
     "output_type": "stream",
     "text": [
      "CPU times: total: 28.3 s\n",
      "Wall time: 27.6 s\n",
      "{'svc__C': 5, 'svc__gamma': 0.005}\n"
     ]
    }
   ],
   "source": [
    "from sklearn.model_selection import GridSearchCV\n",
    "param_grid = {'svc__C': [1, 5, 10, 50],\n",
    "              'svc__gamma': [0.0001, 0.0005, 0.001, 0.005]}\n",
    "grid = GridSearchCV(model, param_grid)\n",
    "\n",
    "%time grid.fit(Xtrain, ytrain)\n",
    "print(grid.best_params_)\n"
   ]
  },
  {
   "cell_type": "markdown",
   "id": "9a29440b-5ac6-4cd1-a876-6bcf89795b62",
   "metadata": {},
   "source": [
    "### Celda 6 — Predicción con el mejor modelo\n",
    "Usamos el mejor estimador hallado por la búsqueda para predecir en el set de prueba.\n"
   ]
  },
  {
   "cell_type": "code",
   "execution_count": 16,
   "id": "6e8695ea-e835-43fb-9c1a-b7a0971cc951",
   "metadata": {},
   "outputs": [],
   "source": [
    "model = grid.best_estimator_\n",
    "yfit = model.predict(Xtest)\n"
   ]
  },
  {
   "cell_type": "markdown",
   "id": "2b3a7650-9330-4245-a1e2-c57aeb49bffa",
   "metadata": {},
   "source": [
    "### Celda 7 — Visualización de predicciones del modelo\n",
    "Mostramos una cuadrícula de imágenes de prueba con la **predicción**; negro si acierta y rojo si falla.\n"
   ]
  },
  {
   "cell_type": "code",
   "execution_count": 17,
   "id": "1e7ae701-d223-4b11-a05e-c4dde45a7521",
   "metadata": {},
   "outputs": [],
   "source": [
    "fig, ax = plt.subplots(4, 6)\n",
    "for i, axi in enumerate(ax.flat):\n",
    "    axi.imshow(Xtest[i].reshape(8, 8), cmap='bone')\n",
    "    axi.set(xticks=[], yticks=[])\n",
    "    axi.set_ylabel(str(yfit[i]),\n",
    "                   color='black' if yfit[i] == ytest[i] else 'red')\n"
   ]
  },
  {
   "cell_type": "markdown",
   "id": "1587d49f-0d2f-4cb8-8ff6-8e3657f7a052",
   "metadata": {},
   "source": [
    "### Celda 8 — Evaluación con classification_report\n",
    "Informe con **precision**, **recall** y **f1-score** por clase y promedios.\n"
   ]
  },
  {
   "cell_type": "code",
   "execution_count": 18,
   "id": "58457120-97d6-435a-a92c-0beac7ae1259",
   "metadata": {},
   "outputs": [
    {
     "name": "stdout",
     "output_type": "stream",
     "text": [
      "              precision    recall  f1-score   support\n",
      "\n",
      "           0       1.00      1.00      1.00        43\n",
      "           1       1.00      1.00      1.00        37\n",
      "           2       1.00      1.00      1.00        38\n",
      "           3       1.00      0.96      0.98        46\n",
      "           4       1.00      1.00      1.00        55\n",
      "           5       0.97      1.00      0.98        59\n",
      "           6       1.00      0.98      0.99        45\n",
      "           7       1.00      0.98      0.99        41\n",
      "           8       0.95      1.00      0.97        38\n",
      "           9       0.98      0.98      0.98        48\n",
      "\n",
      "    accuracy                           0.99       450\n",
      "   macro avg       0.99      0.99      0.99       450\n",
      "weighted avg       0.99      0.99      0.99       450\n",
      "\n"
     ]
    }
   ],
   "source": [
    "from sklearn.metrics import classification_report\n",
    "print(classification_report(ytest, yfit))\n"
   ]
  },
  {
   "cell_type": "markdown",
   "id": "936aaa51-0606-4dd4-b32d-91f8b8db5229",
   "metadata": {},
   "source": [
    "### Celda 9 — Matriz de confusión\n",
    "Mapa de calor para ver aciertos (diagonal) y confusiones entre dígitos.\n"
   ]
  },
  {
   "cell_type": "code",
   "execution_count": 19,
   "id": "8129ab2d-6cb8-4e34-b604-5e252b3d87c5",
   "metadata": {},
   "outputs": [
    {
     "data": {
      "text/plain": [
       "<Axes: >"
      ]
     },
     "execution_count": 19,
     "metadata": {},
     "output_type": "execute_result"
    }
   ],
   "source": [
    "import seaborn as sns\n",
    "from sklearn.metrics import confusion_matrix\n",
    "mat = confusion_matrix(ytest, yfit)\n",
    "sns.heatmap(mat.T, square=True, annot=True, fmt='d', cbar=False,\n",
    "            xticklabels=getattr(digits, \"target_names\", list(range(10))),\n",
    "            yticklabels=getattr(digits, \"target_names\", list(range(10))))\n"
   ]
  },
  {
   "cell_type": "code",
   "execution_count": null,
   "id": "210b6d34-fcae-4123-bc86-82b095744c90",
   "metadata": {},
   "outputs": [],
   "source": []
  }
 ],
 "metadata": {
  "kernelspec": {
   "display_name": "Python [conda env:base] *",
   "language": "python",
   "name": "conda-base-py"
  },
  "language_info": {
   "codemirror_mode": {
    "name": "ipython",
    "version": 3
   },
   "file_extension": ".py",
   "mimetype": "text/x-python",
   "name": "python",
   "nbconvert_exporter": "python",
   "pygments_lexer": "ipython3",
   "version": "3.13.5"
  }
 },
 "nbformat": 4,
 "nbformat_minor": 5
}
