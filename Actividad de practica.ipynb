{
 "cells": [
  {
   "cell_type": "code",
   "execution_count": 1,
   "id": "8c478ee7-dfc9-4df0-b1c1-b13d01cc6da8",
   "metadata": {},
   "outputs": [
    {
     "name": "stdout",
     "output_type": "stream",
     "text": [
      "Downloading from https://www.kaggle.com/api/v1/datasets/download/miadul/brain-tumor-dataset?dataset_version_number=1...\n"
     ]
    },
    {
     "name": "stderr",
     "output_type": "stream",
     "text": [
      "100%|██████████| 852k/852k [00:01<00:00, 806kB/s]"
     ]
    },
    {
     "name": "stdout",
     "output_type": "stream",
     "text": [
      "Extracting files...\n",
      "Path to dataset files: C:\\Users\\Lenovo\\.cache\\kagglehub\\datasets\\miadul\\brain-tumor-dataset\\versions\\1\n"
     ]
    },
    {
     "name": "stderr",
     "output_type": "stream",
     "text": [
      "\n"
     ]
    }
   ],
   "source": [
    "import kagglehub\n",
    "\n",
    "# Download latest version\n",
    "path = kagglehub.dataset_download(\"miadul/brain-tumor-dataset\")\n",
    "\n",
    "print(\"Path to dataset files:\", path)"
   ]
  },
  {
   "cell_type": "markdown",
   "id": "ab8549fd-46ca-4a2b-83f1-6ad944a6e24e",
   "metadata": {},
   "source": [
    "### Librerias"
   ]
  },
  {
   "cell_type": "code",
   "execution_count": 1,
   "id": "c288435f-1b50-43c4-a995-9e6446ab6918",
   "metadata": {},
   "outputs": [],
   "source": [
    "from scipy import stats\n",
    "import pandas as pd\n",
    "import numpy as np\n",
    "from sklearn.linear_model import LinearRegression\n",
    "from sklearn.preprocessing import StandardScaler\n",
    "import statsmodels.api as sm\n",
    "from sklearn.model_selection import train_test_split\n",
    "from sklearn.metrics import r2_score\n",
    "from sklearn.linear_model import Ridge, ElasticNet\n",
    "from sklearn.linear_model import Lasso\n",
    "from sklearn.metrics import mean_squared_error\n",
    "from sklearn.svm import SVC\n",
    "from sklearn.model_selection import cross_val_score, StratifiedKFold\n",
    "from sklearn.preprocessing import StandardScaler\n",
    "from sklearn.metrics import roc_auc_score"
   ]
  },
  {
   "cell_type": "code",
   "execution_count": 2,
   "id": "2bc483fd-9049-4db0-974b-b80ad4c0633d",
   "metadata": {},
   "outputs": [
    {
     "data": {
      "text/html": [
       "<div>\n",
       "<style scoped>\n",
       "    .dataframe tbody tr th:only-of-type {\n",
       "        vertical-align: middle;\n",
       "    }\n",
       "\n",
       "    .dataframe tbody tr th {\n",
       "        vertical-align: top;\n",
       "    }\n",
       "\n",
       "    .dataframe thead th {\n",
       "        text-align: right;\n",
       "    }\n",
       "</style>\n",
       "<table border=\"1\" class=\"dataframe\">\n",
       "  <thead>\n",
       "    <tr style=\"text-align: right;\">\n",
       "      <th></th>\n",
       "      <th>Patient_ID</th>\n",
       "      <th>Age</th>\n",
       "      <th>Gender</th>\n",
       "      <th>Tumor_Type</th>\n",
       "      <th>Tumor_Size</th>\n",
       "      <th>Location</th>\n",
       "      <th>Histology</th>\n",
       "      <th>Stage</th>\n",
       "      <th>Symptom_1</th>\n",
       "      <th>Symptom_2</th>\n",
       "      <th>Symptom_3</th>\n",
       "      <th>Radiation_Treatment</th>\n",
       "      <th>Surgery_Performed</th>\n",
       "      <th>Chemotherapy</th>\n",
       "      <th>Survival_Rate</th>\n",
       "      <th>Tumor_Growth_Rate</th>\n",
       "      <th>Family_History</th>\n",
       "      <th>MRI_Result</th>\n",
       "      <th>Follow_Up_Required</th>\n",
       "    </tr>\n",
       "  </thead>\n",
       "  <tbody>\n",
       "    <tr>\n",
       "      <th>0</th>\n",
       "      <td>1</td>\n",
       "      <td>73</td>\n",
       "      <td>Male</td>\n",
       "      <td>Malignant</td>\n",
       "      <td>5.375612</td>\n",
       "      <td>Temporal</td>\n",
       "      <td>Astrocytoma</td>\n",
       "      <td>III</td>\n",
       "      <td>Vision Issues</td>\n",
       "      <td>Seizures</td>\n",
       "      <td>Seizures</td>\n",
       "      <td>No</td>\n",
       "      <td>No</td>\n",
       "      <td>No</td>\n",
       "      <td>51.312579</td>\n",
       "      <td>0.111876</td>\n",
       "      <td>No</td>\n",
       "      <td>Positive</td>\n",
       "      <td>Yes</td>\n",
       "    </tr>\n",
       "    <tr>\n",
       "      <th>1</th>\n",
       "      <td>2</td>\n",
       "      <td>26</td>\n",
       "      <td>Male</td>\n",
       "      <td>Benign</td>\n",
       "      <td>4.847098</td>\n",
       "      <td>Parietal</td>\n",
       "      <td>Glioblastoma</td>\n",
       "      <td>II</td>\n",
       "      <td>Headache</td>\n",
       "      <td>Headache</td>\n",
       "      <td>Nausea</td>\n",
       "      <td>Yes</td>\n",
       "      <td>Yes</td>\n",
       "      <td>Yes</td>\n",
       "      <td>46.373273</td>\n",
       "      <td>2.165736</td>\n",
       "      <td>Yes</td>\n",
       "      <td>Positive</td>\n",
       "      <td>Yes</td>\n",
       "    </tr>\n",
       "    <tr>\n",
       "      <th>2</th>\n",
       "      <td>3</td>\n",
       "      <td>31</td>\n",
       "      <td>Male</td>\n",
       "      <td>Benign</td>\n",
       "      <td>5.588391</td>\n",
       "      <td>Parietal</td>\n",
       "      <td>Meningioma</td>\n",
       "      <td>I</td>\n",
       "      <td>Vision Issues</td>\n",
       "      <td>Headache</td>\n",
       "      <td>Seizures</td>\n",
       "      <td>No</td>\n",
       "      <td>No</td>\n",
       "      <td>No</td>\n",
       "      <td>47.072221</td>\n",
       "      <td>1.884228</td>\n",
       "      <td>No</td>\n",
       "      <td>Negative</td>\n",
       "      <td>No</td>\n",
       "    </tr>\n",
       "    <tr>\n",
       "      <th>3</th>\n",
       "      <td>4</td>\n",
       "      <td>29</td>\n",
       "      <td>Male</td>\n",
       "      <td>Malignant</td>\n",
       "      <td>1.436600</td>\n",
       "      <td>Temporal</td>\n",
       "      <td>Medulloblastoma</td>\n",
       "      <td>IV</td>\n",
       "      <td>Vision Issues</td>\n",
       "      <td>Seizures</td>\n",
       "      <td>Headache</td>\n",
       "      <td>Yes</td>\n",
       "      <td>No</td>\n",
       "      <td>Yes</td>\n",
       "      <td>51.853634</td>\n",
       "      <td>1.283342</td>\n",
       "      <td>Yes</td>\n",
       "      <td>Negative</td>\n",
       "      <td>No</td>\n",
       "    </tr>\n",
       "    <tr>\n",
       "      <th>4</th>\n",
       "      <td>5</td>\n",
       "      <td>54</td>\n",
       "      <td>Female</td>\n",
       "      <td>Benign</td>\n",
       "      <td>2.417506</td>\n",
       "      <td>Parietal</td>\n",
       "      <td>Glioblastoma</td>\n",
       "      <td>I</td>\n",
       "      <td>Headache</td>\n",
       "      <td>Headache</td>\n",
       "      <td>Seizures</td>\n",
       "      <td>No</td>\n",
       "      <td>No</td>\n",
       "      <td>Yes</td>\n",
       "      <td>54.708987</td>\n",
       "      <td>2.069477</td>\n",
       "      <td>No</td>\n",
       "      <td>Positive</td>\n",
       "      <td>Yes</td>\n",
       "    </tr>\n",
       "  </tbody>\n",
       "</table>\n",
       "</div>"
      ],
      "text/plain": [
       "   Patient_ID  Age  Gender Tumor_Type  Tumor_Size  Location        Histology  \\\n",
       "0           1   73    Male  Malignant    5.375612  Temporal      Astrocytoma   \n",
       "1           2   26    Male     Benign    4.847098  Parietal     Glioblastoma   \n",
       "2           3   31    Male     Benign    5.588391  Parietal       Meningioma   \n",
       "3           4   29    Male  Malignant    1.436600  Temporal  Medulloblastoma   \n",
       "4           5   54  Female     Benign    2.417506  Parietal     Glioblastoma   \n",
       "\n",
       "  Stage      Symptom_1 Symptom_2 Symptom_3 Radiation_Treatment  \\\n",
       "0   III  Vision Issues  Seizures  Seizures                  No   \n",
       "1    II       Headache  Headache    Nausea                 Yes   \n",
       "2     I  Vision Issues  Headache  Seizures                  No   \n",
       "3    IV  Vision Issues  Seizures  Headache                 Yes   \n",
       "4     I       Headache  Headache  Seizures                  No   \n",
       "\n",
       "  Surgery_Performed Chemotherapy  Survival_Rate  Tumor_Growth_Rate  \\\n",
       "0                No           No      51.312579           0.111876   \n",
       "1               Yes          Yes      46.373273           2.165736   \n",
       "2                No           No      47.072221           1.884228   \n",
       "3                No          Yes      51.853634           1.283342   \n",
       "4                No          Yes      54.708987           2.069477   \n",
       "\n",
       "  Family_History MRI_Result Follow_Up_Required  \n",
       "0             No   Positive                Yes  \n",
       "1            Yes   Positive                Yes  \n",
       "2             No   Negative                 No  \n",
       "3            Yes   Negative                 No  \n",
       "4             No   Positive                Yes  "
      ]
     },
     "execution_count": 2,
     "metadata": {},
     "output_type": "execute_result"
    }
   ],
   "source": [
    "df = pd.read_csv(\"brain_tumor_dataset.csv\")\n",
    "df.head()"
   ]
  },
  {
   "cell_type": "code",
   "execution_count": 3,
   "id": "7522f549-5222-4451-96c8-511aed1705eb",
   "metadata": {},
   "outputs": [
    {
     "name": "stdout",
     "output_type": "stream",
     "text": [
      "<class 'pandas.core.frame.DataFrame'>\n",
      "RangeIndex: 20000 entries, 0 to 19999\n",
      "Data columns (total 19 columns):\n",
      " #   Column               Non-Null Count  Dtype  \n",
      "---  ------               --------------  -----  \n",
      " 0   Patient_ID           20000 non-null  int64  \n",
      " 1   Age                  20000 non-null  int64  \n",
      " 2   Gender               20000 non-null  object \n",
      " 3   Tumor_Type           20000 non-null  object \n",
      " 4   Tumor_Size           20000 non-null  float64\n",
      " 5   Location             20000 non-null  object \n",
      " 6   Histology            20000 non-null  object \n",
      " 7   Stage                20000 non-null  object \n",
      " 8   Symptom_1            20000 non-null  object \n",
      " 9   Symptom_2            20000 non-null  object \n",
      " 10  Symptom_3            20000 non-null  object \n",
      " 11  Radiation_Treatment  20000 non-null  object \n",
      " 12  Surgery_Performed    20000 non-null  object \n",
      " 13  Chemotherapy         20000 non-null  object \n",
      " 14  Survival_Rate        20000 non-null  float64\n",
      " 15  Tumor_Growth_Rate    20000 non-null  float64\n",
      " 16  Family_History       20000 non-null  object \n",
      " 17  MRI_Result           20000 non-null  object \n",
      " 18  Follow_Up_Required   20000 non-null  object \n",
      "dtypes: float64(3), int64(2), object(14)\n",
      "memory usage: 2.9+ MB\n"
     ]
    }
   ],
   "source": [
    "df.info()"
   ]
  },
  {
   "cell_type": "code",
   "execution_count": 4,
   "id": "c874d979-3a20-47bc-aab8-cd5911f17238",
   "metadata": {},
   "outputs": [
    {
     "data": {
      "text/html": [
       "<div>\n",
       "<style scoped>\n",
       "    .dataframe tbody tr th:only-of-type {\n",
       "        vertical-align: middle;\n",
       "    }\n",
       "\n",
       "    .dataframe tbody tr th {\n",
       "        vertical-align: top;\n",
       "    }\n",
       "\n",
       "    .dataframe thead th {\n",
       "        text-align: right;\n",
       "    }\n",
       "</style>\n",
       "<table border=\"1\" class=\"dataframe\">\n",
       "  <thead>\n",
       "    <tr style=\"text-align: right;\">\n",
       "      <th></th>\n",
       "      <th>Patient_ID</th>\n",
       "      <th>Age</th>\n",
       "      <th>Tumor_Size</th>\n",
       "      <th>Survival_Rate</th>\n",
       "      <th>Tumor_Growth_Rate</th>\n",
       "    </tr>\n",
       "  </thead>\n",
       "  <tbody>\n",
       "    <tr>\n",
       "      <th>count</th>\n",
       "      <td>20000.000000</td>\n",
       "      <td>20000.000000</td>\n",
       "      <td>20000.000000</td>\n",
       "      <td>20000.000000</td>\n",
       "      <td>20000.000000</td>\n",
       "    </tr>\n",
       "    <tr>\n",
       "      <th>mean</th>\n",
       "      <td>10000.500000</td>\n",
       "      <td>49.433700</td>\n",
       "      <td>5.236552</td>\n",
       "      <td>70.131699</td>\n",
       "      <td>1.547701</td>\n",
       "    </tr>\n",
       "    <tr>\n",
       "      <th>std</th>\n",
       "      <td>5773.647028</td>\n",
       "      <td>17.389296</td>\n",
       "      <td>2.754359</td>\n",
       "      <td>17.270834</td>\n",
       "      <td>0.835995</td>\n",
       "    </tr>\n",
       "    <tr>\n",
       "      <th>min</th>\n",
       "      <td>1.000000</td>\n",
       "      <td>20.000000</td>\n",
       "      <td>0.500410</td>\n",
       "      <td>40.002386</td>\n",
       "      <td>0.100017</td>\n",
       "    </tr>\n",
       "    <tr>\n",
       "      <th>25%</th>\n",
       "      <td>5000.750000</td>\n",
       "      <td>34.000000</td>\n",
       "      <td>2.836686</td>\n",
       "      <td>55.224439</td>\n",
       "      <td>0.830433</td>\n",
       "    </tr>\n",
       "    <tr>\n",
       "      <th>50%</th>\n",
       "      <td>10000.500000</td>\n",
       "      <td>49.000000</td>\n",
       "      <td>5.200675</td>\n",
       "      <td>70.305066</td>\n",
       "      <td>1.541821</td>\n",
       "    </tr>\n",
       "    <tr>\n",
       "      <th>75%</th>\n",
       "      <td>15000.250000</td>\n",
       "      <td>65.000000</td>\n",
       "      <td>7.624299</td>\n",
       "      <td>85.043395</td>\n",
       "      <td>2.262484</td>\n",
       "    </tr>\n",
       "    <tr>\n",
       "      <th>max</th>\n",
       "      <td>20000.000000</td>\n",
       "      <td>79.000000</td>\n",
       "      <td>9.999420</td>\n",
       "      <td>99.998125</td>\n",
       "      <td>2.999835</td>\n",
       "    </tr>\n",
       "  </tbody>\n",
       "</table>\n",
       "</div>"
      ],
      "text/plain": [
       "         Patient_ID           Age    Tumor_Size  Survival_Rate  \\\n",
       "count  20000.000000  20000.000000  20000.000000   20000.000000   \n",
       "mean   10000.500000     49.433700      5.236552      70.131699   \n",
       "std     5773.647028     17.389296      2.754359      17.270834   \n",
       "min        1.000000     20.000000      0.500410      40.002386   \n",
       "25%     5000.750000     34.000000      2.836686      55.224439   \n",
       "50%    10000.500000     49.000000      5.200675      70.305066   \n",
       "75%    15000.250000     65.000000      7.624299      85.043395   \n",
       "max    20000.000000     79.000000      9.999420      99.998125   \n",
       "\n",
       "       Tumor_Growth_Rate  \n",
       "count       20000.000000  \n",
       "mean            1.547701  \n",
       "std             0.835995  \n",
       "min             0.100017  \n",
       "25%             0.830433  \n",
       "50%             1.541821  \n",
       "75%             2.262484  \n",
       "max             2.999835  "
      ]
     },
     "execution_count": 4,
     "metadata": {},
     "output_type": "execute_result"
    }
   ],
   "source": [
    "df.describe()"
   ]
  },
  {
   "cell_type": "code",
   "execution_count": 5,
   "id": "29aa5419-c523-46db-863b-d50ed0459fb8",
   "metadata": {},
   "outputs": [
    {
     "name": "stdout",
     "output_type": "stream",
     "text": [
      "Gender: 2 valores únicos\n",
      "Location: 4 valores únicos\n",
      "Histology: 4 valores únicos\n",
      "Stage: 4 valores únicos\n",
      "Symptom_1: 4 valores únicos\n",
      "Symptom_2: 4 valores únicos\n",
      "Symptom_3: 4 valores únicos\n",
      "Radiation_Treatment: 2 valores únicos\n",
      "Surgery_Performed: 2 valores únicos\n",
      "Chemotherapy: 2 valores únicos\n",
      "Family_History: 2 valores únicos\n",
      "MRI_Result: 2 valores únicos\n",
      "Follow_Up_Required: 2 valores únicos\n"
     ]
    }
   ],
   "source": [
    "# Revisar cuántos valores únicos tiene cada columna categórica\n",
    "cat_cols = df.select_dtypes(exclude=[\"number\"]).columns.tolist()\n",
    "\n",
    "for col in cat_cols:\n",
    "    if col != \"Tumor_Type\":\n",
    "        unicos = df[col].nunique()\n",
    "        print(f\"{col}: {unicos} valores únicos\")"
   ]
  },
  {
   "cell_type": "code",
   "execution_count": 6,
   "id": "ea8a08e3-ab8f-482e-950a-30dbe4abfee0",
   "metadata": {},
   "outputs": [
    {
     "name": "stdout",
     "output_type": "stream",
     "text": [
      "Se eliminaron las columnas: ['Symptom_1', 'Symptom_2', 'Symptom_3']\n",
      "Nueva forma del dataset: (20000, 16)\n"
     ]
    }
   ],
   "source": [
    "# Quitamos las columnas Symptom_1, Symptom_2 y Symptom_3\n",
    "cols_a_quitar = [\"Symptom_1\", \"Symptom_2\", \"Symptom_3\"]\n",
    "\n",
    "df_reducido = df.drop(columns=cols_a_quitar)\n",
    "print(\"Se eliminaron las columnas:\", cols_a_quitar)\n",
    "print(\"Nueva forma del dataset:\", df_reducido.shape)\n"
   ]
  },
  {
   "cell_type": "code",
   "execution_count": 7,
   "id": "6ddd984a-6c71-46be-8b49-90612536a86a",
   "metadata": {},
   "outputs": [],
   "source": [
    "#  Separamos X (todo menos Tumor_Type) y y (solo Tumor_Type)\n",
    "X = df_reducido.drop(columns=[\"Tumor_Type\"])\n",
    "y = df_reducido[\"Tumor_Type\"]"
   ]
  },
  {
   "cell_type": "code",
   "execution_count": 8,
   "id": "a64bed77-f085-44e0-b63d-8284ad366f27",
   "metadata": {},
   "outputs": [],
   "source": [
    "#  Convertimos texto en números (porque el modelo no entiende strings)\n",
    "X = pd.get_dummies(X, drop_first=True)   # convierte categóricas en columnas 0/1\n",
    "y = (y == \"Malignant\").astype(int)       # 1 si es maligno, 0 si es benigno\n"
   ]
  },
  {
   "cell_type": "code",
   "execution_count": 9,
   "id": "bd00abc6-4030-4646-b111-184ee77d7b5f",
   "metadata": {},
   "outputs": [],
   "source": [
    "#  Escalamos los valores (importante para SVC)\n",
    "scaler = StandardScaler()\n",
    "X_scaled = scaler.fit_transform(X)"
   ]
  },
  {
   "cell_type": "code",
   "execution_count": 10,
   "id": "3622dd5e-b1df-4615-bd67-3802c9ee498a",
   "metadata": {},
   "outputs": [],
   "source": [
    "#  Creamos el modelo SVC lineal (sin optimizar todavía)\n",
    "modelo = SVC(kernel=\"linear\", C=1, probability=True, random_state=42)\n"
   ]
  },
  {
   "cell_type": "code",
   "execution_count": null,
   "id": "580576d1-7c33-4b8c-9035-8bd9c511af3e",
   "metadata": {},
   "outputs": [],
   "source": [
    "#  Evaluamos con validación cruzada (10 folds)\n",
    "kfold = StratifiedKFold(n_splits=10, shuffle=True, random_state=42)\n",
    "scores = cross_val_score(modelo, X_scaled, y, cv=kfold, scoring=\"roc_auc\")\n",
    "\n",
    "print(\"AUC promedio:\", round(scores.mean(), 4))\n",
    "print(\"AUC por fold:\", np.round(scores, 4))"
   ]
  },
  {
   "cell_type": "markdown",
   "id": "1bd9dce9-e660-4820-a89f-132128df7da9",
   "metadata": {},
   "source": [
    "## Optimización bayesiana de C"
   ]
  },
  {
   "cell_type": "code",
   "execution_count": null,
   "id": "5a594831-8a40-42af-8c62-1a731a499265",
   "metadata": {},
   "outputs": [],
   "source": [
    "from skopt import BayesSearchCV\n",
    "from sklearn.svm import SVC\n",
    "from sklearn.model_selection import StratifiedKFold"
   ]
  },
  {
   "cell_type": "code",
   "execution_count": null,
   "id": "62398b48-0d4a-4bb3-8e5b-1e67113fd9f9",
   "metadata": {},
   "outputs": [],
   "source": [
    "#  Definimos el modelo (igual que antes, kernel lineal)\n",
    "modelo = SVC(kernel=\"linear\", probability=True, random_state=42)"
   ]
  },
  {
   "cell_type": "code",
   "execution_count": null,
   "id": "226c92e6-d0e9-4519-bf61-02a816b131d4",
   "metadata": {},
   "outputs": [],
   "source": [
    "#  Rango de búsqueda para C (en escala logarítmica)\n",
    "parametros = {\"C\": (1e-4, 1e3, \"log-uniform\")}"
   ]
  },
  {
   "cell_type": "code",
   "execution_count": null,
   "id": "fb2ff21f-9b84-4e4e-bad6-79e72e087d98",
   "metadata": {},
   "outputs": [],
   "source": [
    "#  Validación cruzada\n",
    "cv = StratifiedKFold(n_splits=10, shuffle=True, random_state=42)"
   ]
  },
  {
   "cell_type": "code",
   "execution_count": null,
   "id": "7b580dd0-1f67-4c1b-aca7-61d6fefb98b6",
   "metadata": {},
   "outputs": [],
   "source": [
    "#  Configuramos la búsqueda bayesiana\n",
    "busqueda = BayesSearchCV(\n",
    "    estimator=modelo,\n",
    "    search_spaces=parametros,\n",
    "    n_iter=20,            # número de pruebas que hará (puedes bajarlo a 10 si quieres más rápido)\n",
    "    cv=cv,\n",
    "    scoring=\"roc_auc\",    # métrica a optimizar\n",
    "    random_state=42,\n",
    "    n_jobs=-1\n",
    ")"
   ]
  },
  {
   "cell_type": "code",
   "execution_count": null,
   "id": "f49051b5-a2c0-4f98-a97a-c92637fd878f",
   "metadata": {},
   "outputs": [],
   "source": [
    "#  Ejecutamos la búsqueda\n",
    "print(\"Buscando el mejor valor de C, esto puede tardar un poco...\")\n",
    "busqueda.fit(X_scaled, y)"
   ]
  },
  {
   "cell_type": "code",
   "execution_count": null,
   "id": "ae66a191-e370-49fc-a20b-12b40f53c33b",
   "metadata": {},
   "outputs": [],
   "source": [
    "#  Resultados\n",
    "print(\"\\n✅ Optimización terminada:\")\n",
    "print(\"Mejor C encontrado:\", busqueda.best_params_[\"C\"])\n",
    "print(\"AUC promedio (10 folds):\", round(busqueda.best_score_, 4))"
   ]
  }
 ],
 "metadata": {
  "kernelspec": {
   "display_name": "Python [conda env:base] *",
   "language": "python",
   "name": "conda-base-py"
  },
  "language_info": {
   "codemirror_mode": {
    "name": "ipython",
    "version": 3
   },
   "file_extension": ".py",
   "mimetype": "text/x-python",
   "name": "python",
   "nbconvert_exporter": "python",
   "pygments_lexer": "ipython3",
   "version": "3.13.5"
  }
 },
 "nbformat": 4,
 "nbformat_minor": 5
}
